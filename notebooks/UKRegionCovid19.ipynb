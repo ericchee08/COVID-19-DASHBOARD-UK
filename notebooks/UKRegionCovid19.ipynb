{
 "cells": [
  {
   "cell_type": "code",
   "execution_count": 1,
   "metadata": {},
   "outputs": [],
   "source": [
    "import numpy as np \n",
    "import pandas as pd\n",
    "import matplotlib.pyplot as plt \n",
    "import seaborn as sns \n",
    "import plotly as px \n",
    "import plotly.graph_objects as go\n",
    "import plotly.express as px\n",
    "import datetime \n",
    "from ipywidgets import interact, interactive, fixed, interact_manual, widgets\n",
    "from IPython.display import Image\n",
    "\n",
    "from IPython.core.display import display, HTML"
   ]
  },
  {
   "cell_type": "markdown",
   "metadata": {},
   "source": [
    "# NHS England - COVID-19 - Dashboard"
   ]
  },
  {
   "cell_type": "code",
   "execution_count": 2,
   "metadata": {},
   "outputs": [
    {
     "name": "stdout",
     "output_type": "stream",
     "text": [
      "Eric Chee 2020-05-02\n"
     ]
    }
   ],
   "source": [
    "today = datetime.date.today()\n",
    "print('Eric Chee ' + str(today))"
   ]
  },
  {
   "cell_type": "markdown",
   "metadata": {},
   "source": [
    "###### UPDATE 2: New NHS Dataset available - Added NHS Confirmed Deaths by Gender, Lockdown indicator added to NHS Daily - Confirmed Deaths (2020-05-02)\n",
    "###### UPDATE 1: New NHS Dataset available - Added NHS Comfirmed Deaths by Ethnicity, and NHS Confirmed Deaths by Underlying Health Conditions (2020-05-01)"
   ]
  },
  {
   "cell_type": "code",
   "execution_count": 3,
   "metadata": {},
   "outputs": [
    {
     "data": {
      "text/html": [
       "<img src=\"https://raw.githubusercontent.com/ericchee08/COVID-19-DASHBOARD-UK/master/uk-coronavirus-banner.png\"/>"
      ],
      "text/plain": [
       "<IPython.core.display.Image object>"
      ]
     },
     "execution_count": 3,
     "metadata": {},
     "output_type": "execute_result"
    }
   ],
   "source": [
    "Image(url=\"https://raw.githubusercontent.com/ericchee08/COVID-19-DASHBOARD-UK/master/uk-coronavirus-banner.png\")"
   ]
  },
  {
   "cell_type": "code",
   "execution_count": 4,
   "metadata": {},
   "outputs": [],
   "source": [
    "nhs_conditions = pd.read_csv('https://raw.githubusercontent.com/ericchee08/COVID-19-DASHBOARD-UK/master/data/COVID-19%20-%20Underlying%20Conditions.csv')"
   ]
  },
  {
   "cell_type": "markdown",
   "metadata": {},
   "source": [
    "This Dashboard contains information on deaths of patients who have died in hospitals in England and had tested positive for COVID-19 at time of death. All deaths are recorded against the date of death rather than the date the deaths were announced. \n",
    "\n",
    "Interpretation of the figures should take into account the fact that totals by date of death, particularly for most recent days, are likely to be updated in future releases. For example as deaths are confirmed as testing positive for COVID-19, as more post-mortem tests are processed and data from them are validated. Any changes are made clear in the daily files.\n",
    "\n",
    "These figures will be updated at 2pm each day and include confirmed cases reported at 5pm the previous day. Confirmation of COVID-19 diagnosis, death notification and reporting in central figures can take up to several days and the hospitals providing the data are under significant operational pressure. This means that the totals reported at 5pm on each day may not include all deaths that occurred on that day or on recent prior days.\n",
    "\n",
    "These figures do not include deaths outside hospital, such as those in care homes. This approach makes it possible to compile deaths data on a daily basis using up to date figures.\n",
    "\n",
    "**All information above can be found on the NHS Statistics section.**\n",
    "\n",
    "### For Global statistics please visit - https://ericchee-covid19.herokuapp.com/"
   ]
  },
  {
   "cell_type": "code",
   "execution_count": 5,
   "metadata": {},
   "outputs": [],
   "source": [
    "nhs_region = pd.read_csv('https://raw.githubusercontent.com/ericchee08/COVID-19-DASHBOARD-UK/master/data/COVID-19%20-%20Total%20Deaths%20By%20Region.csv')\n",
    "nhs_age = pd.read_csv('https://raw.githubusercontent.com/ericchee08/COVID-19-DASHBOARD-UK/master/data/COVID-19%20-%20Total%20Death%20By%20Age.csv')\n",
    "nhs_conditions = pd.read_csv('https://raw.githubusercontent.com/ericchee08/COVID-19-DASHBOARD-UK/master/data/COVID-19%20-%20Underlying%20Conditions.csv')\n",
    "nhs_ethnicity = pd.read_csv('https://raw.githubusercontent.com/ericchee08/COVID-19-DASHBOARD-UK/master/data/COVID-19%20-%20Deaths%20by%20Ethnicity%20.csv')\n",
    "nhs_gender = pd.read_csv('https://raw.githubusercontent.com/ericchee08/COVID-19-DASHBOARD-UK/master/data/COVID-19%20-%20Gender.csv')"
   ]
  },
  {
   "cell_type": "code",
   "execution_count": 6,
   "metadata": {},
   "outputs": [],
   "source": [
    "#nhs_region"
   ]
  },
  {
   "cell_type": "code",
   "execution_count": 7,
   "metadata": {},
   "outputs": [],
   "source": [
    "#nhs_age"
   ]
  },
  {
   "cell_type": "code",
   "execution_count": 8,
   "metadata": {},
   "outputs": [],
   "source": [
    "#nhs_conditions"
   ]
  },
  {
   "cell_type": "code",
   "execution_count": 9,
   "metadata": {},
   "outputs": [],
   "source": [
    "#nhs_ethnicity"
   ]
  },
  {
   "cell_type": "code",
   "execution_count": 10,
   "metadata": {},
   "outputs": [],
   "source": [
    "#nhs_gender"
   ]
  },
  {
   "cell_type": "markdown",
   "metadata": {},
   "source": [
    "# NHS England Total Confirmed Cases"
   ]
  },
  {
   "cell_type": "code",
   "execution_count": 11,
   "metadata": {},
   "outputs": [
    {
     "data": {
      "text/html": [
       "<style  type=\"text/css\" >\n",
       "    #T_9163f178_8c88_11ea_aea2_fcaa14e7ba64row0_col0 {\n",
       "            background-color:  yellow;\n",
       "        }    #T_9163f178_8c88_11ea_aea2_fcaa14e7ba64row0_col1 {\n",
       "            background-color:  yellow;\n",
       "        }</style><table id=\"T_9163f178_8c88_11ea_aea2_fcaa14e7ba64\" ><thead>    <tr>        <th class=\"blank level0\" ></th>        <th class=\"col_heading level0 col0\" >Country Region</th>        <th class=\"col_heading level0 col1\" >Total</th>    </tr></thead><tbody>\n",
       "                <tr>\n",
       "                        <th id=\"T_9163f178_8c88_11ea_aea2_fcaa14e7ba64level0_row0\" class=\"row_heading level0 row0\" >0</th>\n",
       "                        <td id=\"T_9163f178_8c88_11ea_aea2_fcaa14e7ba64row0_col0\" class=\"data row0 col0\" >England</td>\n",
       "                        <td id=\"T_9163f178_8c88_11ea_aea2_fcaa14e7ba64row0_col1\" class=\"data row0 col1\" >20,853</td>\n",
       "            </tr>\n",
       "            <tr>\n",
       "                        <th id=\"T_9163f178_8c88_11ea_aea2_fcaa14e7ba64level0_row1\" class=\"row_heading level0 row1\" >1</th>\n",
       "                        <td id=\"T_9163f178_8c88_11ea_aea2_fcaa14e7ba64row1_col0\" class=\"data row1 col0\" >East Of England</td>\n",
       "                        <td id=\"T_9163f178_8c88_11ea_aea2_fcaa14e7ba64row1_col1\" class=\"data row1 col1\" >2,397</td>\n",
       "            </tr>\n",
       "            <tr>\n",
       "                        <th id=\"T_9163f178_8c88_11ea_aea2_fcaa14e7ba64level0_row2\" class=\"row_heading level0 row2\" >2</th>\n",
       "                        <td id=\"T_9163f178_8c88_11ea_aea2_fcaa14e7ba64row2_col0\" class=\"data row2 col0\" >London</td>\n",
       "                        <td id=\"T_9163f178_8c88_11ea_aea2_fcaa14e7ba64row2_col1\" class=\"data row2 col1\" >5,098</td>\n",
       "            </tr>\n",
       "            <tr>\n",
       "                        <th id=\"T_9163f178_8c88_11ea_aea2_fcaa14e7ba64level0_row3\" class=\"row_heading level0 row3\" >3</th>\n",
       "                        <td id=\"T_9163f178_8c88_11ea_aea2_fcaa14e7ba64row3_col0\" class=\"data row3 col0\" >Midlands</td>\n",
       "                        <td id=\"T_9163f178_8c88_11ea_aea2_fcaa14e7ba64row3_col1\" class=\"data row3 col1\" >4,084</td>\n",
       "            </tr>\n",
       "            <tr>\n",
       "                        <th id=\"T_9163f178_8c88_11ea_aea2_fcaa14e7ba64level0_row4\" class=\"row_heading level0 row4\" >4</th>\n",
       "                        <td id=\"T_9163f178_8c88_11ea_aea2_fcaa14e7ba64row4_col0\" class=\"data row4 col0\" >North East And Yorkshire</td>\n",
       "                        <td id=\"T_9163f178_8c88_11ea_aea2_fcaa14e7ba64row4_col1\" class=\"data row4 col1\" >2,839</td>\n",
       "            </tr>\n",
       "            <tr>\n",
       "                        <th id=\"T_9163f178_8c88_11ea_aea2_fcaa14e7ba64level0_row5\" class=\"row_heading level0 row5\" >5</th>\n",
       "                        <td id=\"T_9163f178_8c88_11ea_aea2_fcaa14e7ba64row5_col0\" class=\"data row5 col0\" >North West</td>\n",
       "                        <td id=\"T_9163f178_8c88_11ea_aea2_fcaa14e7ba64row5_col1\" class=\"data row5 col1\" >3,084</td>\n",
       "            </tr>\n",
       "            <tr>\n",
       "                        <th id=\"T_9163f178_8c88_11ea_aea2_fcaa14e7ba64level0_row6\" class=\"row_heading level0 row6\" >6</th>\n",
       "                        <td id=\"T_9163f178_8c88_11ea_aea2_fcaa14e7ba64row6_col0\" class=\"data row6 col0\" >South East</td>\n",
       "                        <td id=\"T_9163f178_8c88_11ea_aea2_fcaa14e7ba64row6_col1\" class=\"data row6 col1\" >2,404</td>\n",
       "            </tr>\n",
       "            <tr>\n",
       "                        <th id=\"T_9163f178_8c88_11ea_aea2_fcaa14e7ba64level0_row7\" class=\"row_heading level0 row7\" >7</th>\n",
       "                        <td id=\"T_9163f178_8c88_11ea_aea2_fcaa14e7ba64row7_col0\" class=\"data row7 col0\" >South West</td>\n",
       "                        <td id=\"T_9163f178_8c88_11ea_aea2_fcaa14e7ba64row7_col1\" class=\"data row7 col1\" >947</td>\n",
       "            </tr>\n",
       "    </tbody></table>"
      ],
      "text/plain": [
       "<pandas.io.formats.style.Styler at 0x1ba539e8dc8>"
      ]
     },
     "execution_count": 11,
     "metadata": {},
     "output_type": "execute_result"
    }
   ],
   "source": [
    "def highlight_col(x):\n",
    "    y = 'background-color: yellow'\n",
    "    temp_df = pd.DataFrame('', index=x.index, columns = x.columns)\n",
    "    temp_df.iloc[0] = y\n",
    "\n",
    "    return temp_df\n",
    "    \n",
    "nhs_region[['Country Region','Total']].style.apply(highlight_col, axis=None)"
   ]
  },
  {
   "cell_type": "markdown",
   "metadata": {},
   "source": [
    "# NHS Daily - Confirmed Deaths\n",
    "#### Use Zoom tool to adjust the Date Range"
   ]
  },
  {
   "cell_type": "code",
   "execution_count": 14,
   "metadata": {},
   "outputs": [
    {
     "data": {
      "application/vnd.plotly.v1+json": {
       "config": {
        "plotlyServerURL": "https://plot.ly"
       },
       "data": [
        {
         "marker": {
          "color": "purple"
         },
         "text": [
          0,
          0,
          4,
          0,
          2,
          2,
          1,
          5,
          4,
          1,
          10,
          13,
          17,
          24,
          31,
          48,
          47,
          69,
          63,
          105,
          106,
          154,
          154,
          193,
          244,
          323,
          355,
          354,
          604,
          596,
          359,
          599,
          611,
          656,
          756,
          725,
          715,
          783,
          864,
          756,
          704,
          738,
          684,
          652,
          615,
          653,
          611,
          576,
          547,
          501,
          537,
          462,
          466,
          433,
          416,
          362,
          352,
          316,
          302,
          278,
          219,
          75
         ],
         "textposition": "auto",
         "type": "bar",
         "x": [
          "01/03/2020",
          "02/03/2020",
          "03/03/2020",
          "04/03/2020",
          "05/03/2020",
          "06/03/2020",
          "07/03/2020",
          "08/03/2020",
          "09/03/2020",
          "10/03/2020",
          "11/03/2020",
          "12/03/2020",
          "13/03/2020",
          "14/03/2020",
          "15/03/2020",
          "16/03/2020",
          "17/03/2020",
          "18/03/2020",
          "19/03/2020",
          "20/03/2020",
          "21/03/2020",
          "22/03/2020",
          "23/03/2020",
          "24/03/2020",
          "25/03/2020",
          "26/03/2020",
          "27/03/2020",
          "28/03/2020",
          "29/03/2020",
          "30/03/2020",
          "31/03/2020",
          "01/04/2020",
          "02/04/2020",
          "03/04/2020",
          "04/04/2020",
          "05/04/2020",
          "06/04/2020",
          "07/04/2020",
          "08/04/2020",
          "09/04/2020",
          "10/04/2020",
          "11/04/2020",
          "12/04/2020",
          "13/04/2020",
          "14/04/2020",
          "15/04/2020",
          "16/04/2020",
          "17/04/2020",
          "18/04/2020",
          "19/04/2020",
          "20/04/2020",
          "21/04/2020",
          "22/04/2020",
          "23/04/2020",
          "24/04/2020",
          "25/04/2020",
          "26/04/2020",
          "27/04/2020",
          "28/04/2020",
          "29/04/2020",
          "30/04/2020",
          "01/05/2020"
         ],
         "y": [
          0,
          0,
          4,
          0,
          2,
          2,
          1,
          5,
          4,
          1,
          10,
          13,
          17,
          24,
          31,
          48,
          47,
          69,
          63,
          105,
          106,
          154,
          154,
          193,
          244,
          323,
          355,
          354,
          604,
          596,
          359,
          599,
          611,
          656,
          756,
          725,
          715,
          783,
          864,
          756,
          704,
          738,
          684,
          652,
          615,
          653,
          611,
          576,
          547,
          501,
          537,
          462,
          466,
          433,
          416,
          362,
          352,
          316,
          302,
          278,
          219,
          75
         ]
        },
        {
         "mode": "text",
         "text": [
          "Lockdown"
         ],
         "type": "scatter",
         "x": [
          "26/03/2020"
         ],
         "y": [
          708
         ]
        }
       ],
       "layout": {
        "height": 500,
        "margin": {
         "b": 20,
         "l": 20,
         "r": 20,
         "t": 20
        },
        "shapes": [
         {
          "line": {
           "color": "RoyalBlue",
           "width": 3
          },
          "type": "line",
          "x0": 22,
          "x1": 22,
          "y0": 0,
          "y1": 900
         }
        ],
        "showlegend": false,
        "template": {
         "data": {
          "bar": [
           {
            "error_x": {
             "color": "#2a3f5f"
            },
            "error_y": {
             "color": "#2a3f5f"
            },
            "marker": {
             "line": {
              "color": "#E5ECF6",
              "width": 0.5
             }
            },
            "type": "bar"
           }
          ],
          "barpolar": [
           {
            "marker": {
             "line": {
              "color": "#E5ECF6",
              "width": 0.5
             }
            },
            "type": "barpolar"
           }
          ],
          "carpet": [
           {
            "aaxis": {
             "endlinecolor": "#2a3f5f",
             "gridcolor": "white",
             "linecolor": "white",
             "minorgridcolor": "white",
             "startlinecolor": "#2a3f5f"
            },
            "baxis": {
             "endlinecolor": "#2a3f5f",
             "gridcolor": "white",
             "linecolor": "white",
             "minorgridcolor": "white",
             "startlinecolor": "#2a3f5f"
            },
            "type": "carpet"
           }
          ],
          "choropleth": [
           {
            "colorbar": {
             "outlinewidth": 0,
             "ticks": ""
            },
            "type": "choropleth"
           }
          ],
          "contour": [
           {
            "colorbar": {
             "outlinewidth": 0,
             "ticks": ""
            },
            "colorscale": [
             [
              0,
              "#0d0887"
             ],
             [
              0.1111111111111111,
              "#46039f"
             ],
             [
              0.2222222222222222,
              "#7201a8"
             ],
             [
              0.3333333333333333,
              "#9c179e"
             ],
             [
              0.4444444444444444,
              "#bd3786"
             ],
             [
              0.5555555555555556,
              "#d8576b"
             ],
             [
              0.6666666666666666,
              "#ed7953"
             ],
             [
              0.7777777777777778,
              "#fb9f3a"
             ],
             [
              0.8888888888888888,
              "#fdca26"
             ],
             [
              1,
              "#f0f921"
             ]
            ],
            "type": "contour"
           }
          ],
          "contourcarpet": [
           {
            "colorbar": {
             "outlinewidth": 0,
             "ticks": ""
            },
            "type": "contourcarpet"
           }
          ],
          "heatmap": [
           {
            "colorbar": {
             "outlinewidth": 0,
             "ticks": ""
            },
            "colorscale": [
             [
              0,
              "#0d0887"
             ],
             [
              0.1111111111111111,
              "#46039f"
             ],
             [
              0.2222222222222222,
              "#7201a8"
             ],
             [
              0.3333333333333333,
              "#9c179e"
             ],
             [
              0.4444444444444444,
              "#bd3786"
             ],
             [
              0.5555555555555556,
              "#d8576b"
             ],
             [
              0.6666666666666666,
              "#ed7953"
             ],
             [
              0.7777777777777778,
              "#fb9f3a"
             ],
             [
              0.8888888888888888,
              "#fdca26"
             ],
             [
              1,
              "#f0f921"
             ]
            ],
            "type": "heatmap"
           }
          ],
          "heatmapgl": [
           {
            "colorbar": {
             "outlinewidth": 0,
             "ticks": ""
            },
            "colorscale": [
             [
              0,
              "#0d0887"
             ],
             [
              0.1111111111111111,
              "#46039f"
             ],
             [
              0.2222222222222222,
              "#7201a8"
             ],
             [
              0.3333333333333333,
              "#9c179e"
             ],
             [
              0.4444444444444444,
              "#bd3786"
             ],
             [
              0.5555555555555556,
              "#d8576b"
             ],
             [
              0.6666666666666666,
              "#ed7953"
             ],
             [
              0.7777777777777778,
              "#fb9f3a"
             ],
             [
              0.8888888888888888,
              "#fdca26"
             ],
             [
              1,
              "#f0f921"
             ]
            ],
            "type": "heatmapgl"
           }
          ],
          "histogram": [
           {
            "marker": {
             "colorbar": {
              "outlinewidth": 0,
              "ticks": ""
             }
            },
            "type": "histogram"
           }
          ],
          "histogram2d": [
           {
            "colorbar": {
             "outlinewidth": 0,
             "ticks": ""
            },
            "colorscale": [
             [
              0,
              "#0d0887"
             ],
             [
              0.1111111111111111,
              "#46039f"
             ],
             [
              0.2222222222222222,
              "#7201a8"
             ],
             [
              0.3333333333333333,
              "#9c179e"
             ],
             [
              0.4444444444444444,
              "#bd3786"
             ],
             [
              0.5555555555555556,
              "#d8576b"
             ],
             [
              0.6666666666666666,
              "#ed7953"
             ],
             [
              0.7777777777777778,
              "#fb9f3a"
             ],
             [
              0.8888888888888888,
              "#fdca26"
             ],
             [
              1,
              "#f0f921"
             ]
            ],
            "type": "histogram2d"
           }
          ],
          "histogram2dcontour": [
           {
            "colorbar": {
             "outlinewidth": 0,
             "ticks": ""
            },
            "colorscale": [
             [
              0,
              "#0d0887"
             ],
             [
              0.1111111111111111,
              "#46039f"
             ],
             [
              0.2222222222222222,
              "#7201a8"
             ],
             [
              0.3333333333333333,
              "#9c179e"
             ],
             [
              0.4444444444444444,
              "#bd3786"
             ],
             [
              0.5555555555555556,
              "#d8576b"
             ],
             [
              0.6666666666666666,
              "#ed7953"
             ],
             [
              0.7777777777777778,
              "#fb9f3a"
             ],
             [
              0.8888888888888888,
              "#fdca26"
             ],
             [
              1,
              "#f0f921"
             ]
            ],
            "type": "histogram2dcontour"
           }
          ],
          "mesh3d": [
           {
            "colorbar": {
             "outlinewidth": 0,
             "ticks": ""
            },
            "type": "mesh3d"
           }
          ],
          "parcoords": [
           {
            "line": {
             "colorbar": {
              "outlinewidth": 0,
              "ticks": ""
             }
            },
            "type": "parcoords"
           }
          ],
          "pie": [
           {
            "automargin": true,
            "type": "pie"
           }
          ],
          "scatter": [
           {
            "marker": {
             "colorbar": {
              "outlinewidth": 0,
              "ticks": ""
             }
            },
            "type": "scatter"
           }
          ],
          "scatter3d": [
           {
            "line": {
             "colorbar": {
              "outlinewidth": 0,
              "ticks": ""
             }
            },
            "marker": {
             "colorbar": {
              "outlinewidth": 0,
              "ticks": ""
             }
            },
            "type": "scatter3d"
           }
          ],
          "scattercarpet": [
           {
            "marker": {
             "colorbar": {
              "outlinewidth": 0,
              "ticks": ""
             }
            },
            "type": "scattercarpet"
           }
          ],
          "scattergeo": [
           {
            "marker": {
             "colorbar": {
              "outlinewidth": 0,
              "ticks": ""
             }
            },
            "type": "scattergeo"
           }
          ],
          "scattergl": [
           {
            "marker": {
             "colorbar": {
              "outlinewidth": 0,
              "ticks": ""
             }
            },
            "type": "scattergl"
           }
          ],
          "scattermapbox": [
           {
            "marker": {
             "colorbar": {
              "outlinewidth": 0,
              "ticks": ""
             }
            },
            "type": "scattermapbox"
           }
          ],
          "scatterpolar": [
           {
            "marker": {
             "colorbar": {
              "outlinewidth": 0,
              "ticks": ""
             }
            },
            "type": "scatterpolar"
           }
          ],
          "scatterpolargl": [
           {
            "marker": {
             "colorbar": {
              "outlinewidth": 0,
              "ticks": ""
             }
            },
            "type": "scatterpolargl"
           }
          ],
          "scatterternary": [
           {
            "marker": {
             "colorbar": {
              "outlinewidth": 0,
              "ticks": ""
             }
            },
            "type": "scatterternary"
           }
          ],
          "surface": [
           {
            "colorbar": {
             "outlinewidth": 0,
             "ticks": ""
            },
            "colorscale": [
             [
              0,
              "#0d0887"
             ],
             [
              0.1111111111111111,
              "#46039f"
             ],
             [
              0.2222222222222222,
              "#7201a8"
             ],
             [
              0.3333333333333333,
              "#9c179e"
             ],
             [
              0.4444444444444444,
              "#bd3786"
             ],
             [
              0.5555555555555556,
              "#d8576b"
             ],
             [
              0.6666666666666666,
              "#ed7953"
             ],
             [
              0.7777777777777778,
              "#fb9f3a"
             ],
             [
              0.8888888888888888,
              "#fdca26"
             ],
             [
              1,
              "#f0f921"
             ]
            ],
            "type": "surface"
           }
          ],
          "table": [
           {
            "cells": {
             "fill": {
              "color": "#EBF0F8"
             },
             "line": {
              "color": "white"
             }
            },
            "header": {
             "fill": {
              "color": "#C8D4E3"
             },
             "line": {
              "color": "white"
             }
            },
            "type": "table"
           }
          ]
         },
         "layout": {
          "annotationdefaults": {
           "arrowcolor": "#2a3f5f",
           "arrowhead": 0,
           "arrowwidth": 1
          },
          "coloraxis": {
           "colorbar": {
            "outlinewidth": 0,
            "ticks": ""
           }
          },
          "colorscale": {
           "diverging": [
            [
             0,
             "#8e0152"
            ],
            [
             0.1,
             "#c51b7d"
            ],
            [
             0.2,
             "#de77ae"
            ],
            [
             0.3,
             "#f1b6da"
            ],
            [
             0.4,
             "#fde0ef"
            ],
            [
             0.5,
             "#f7f7f7"
            ],
            [
             0.6,
             "#e6f5d0"
            ],
            [
             0.7,
             "#b8e186"
            ],
            [
             0.8,
             "#7fbc41"
            ],
            [
             0.9,
             "#4d9221"
            ],
            [
             1,
             "#276419"
            ]
           ],
           "sequential": [
            [
             0,
             "#0d0887"
            ],
            [
             0.1111111111111111,
             "#46039f"
            ],
            [
             0.2222222222222222,
             "#7201a8"
            ],
            [
             0.3333333333333333,
             "#9c179e"
            ],
            [
             0.4444444444444444,
             "#bd3786"
            ],
            [
             0.5555555555555556,
             "#d8576b"
            ],
            [
             0.6666666666666666,
             "#ed7953"
            ],
            [
             0.7777777777777778,
             "#fb9f3a"
            ],
            [
             0.8888888888888888,
             "#fdca26"
            ],
            [
             1,
             "#f0f921"
            ]
           ],
           "sequentialminus": [
            [
             0,
             "#0d0887"
            ],
            [
             0.1111111111111111,
             "#46039f"
            ],
            [
             0.2222222222222222,
             "#7201a8"
            ],
            [
             0.3333333333333333,
             "#9c179e"
            ],
            [
             0.4444444444444444,
             "#bd3786"
            ],
            [
             0.5555555555555556,
             "#d8576b"
            ],
            [
             0.6666666666666666,
             "#ed7953"
            ],
            [
             0.7777777777777778,
             "#fb9f3a"
            ],
            [
             0.8888888888888888,
             "#fdca26"
            ],
            [
             1,
             "#f0f921"
            ]
           ]
          },
          "colorway": [
           "#636efa",
           "#EF553B",
           "#00cc96",
           "#ab63fa",
           "#FFA15A",
           "#19d3f3",
           "#FF6692",
           "#B6E880",
           "#FF97FF",
           "#FECB52"
          ],
          "font": {
           "color": "#2a3f5f"
          },
          "geo": {
           "bgcolor": "white",
           "lakecolor": "white",
           "landcolor": "#E5ECF6",
           "showlakes": true,
           "showland": true,
           "subunitcolor": "white"
          },
          "hoverlabel": {
           "align": "left"
          },
          "hovermode": "closest",
          "mapbox": {
           "style": "light"
          },
          "paper_bgcolor": "white",
          "plot_bgcolor": "#E5ECF6",
          "polar": {
           "angularaxis": {
            "gridcolor": "white",
            "linecolor": "white",
            "ticks": ""
           },
           "bgcolor": "#E5ECF6",
           "radialaxis": {
            "gridcolor": "white",
            "linecolor": "white",
            "ticks": ""
           }
          },
          "scene": {
           "xaxis": {
            "backgroundcolor": "#E5ECF6",
            "gridcolor": "white",
            "gridwidth": 2,
            "linecolor": "white",
            "showbackground": true,
            "ticks": "",
            "zerolinecolor": "white"
           },
           "yaxis": {
            "backgroundcolor": "#E5ECF6",
            "gridcolor": "white",
            "gridwidth": 2,
            "linecolor": "white",
            "showbackground": true,
            "ticks": "",
            "zerolinecolor": "white"
           },
           "zaxis": {
            "backgroundcolor": "#E5ECF6",
            "gridcolor": "white",
            "gridwidth": 2,
            "linecolor": "white",
            "showbackground": true,
            "ticks": "",
            "zerolinecolor": "white"
           }
          },
          "shapedefaults": {
           "line": {
            "color": "#2a3f5f"
           }
          },
          "ternary": {
           "aaxis": {
            "gridcolor": "white",
            "linecolor": "white",
            "ticks": ""
           },
           "baxis": {
            "gridcolor": "white",
            "linecolor": "white",
            "ticks": ""
           },
           "bgcolor": "#E5ECF6",
           "caxis": {
            "gridcolor": "white",
            "linecolor": "white",
            "ticks": ""
           }
          },
          "title": {
           "x": 0.05
          },
          "xaxis": {
           "automargin": true,
           "gridcolor": "white",
           "linecolor": "white",
           "ticks": "",
           "title": {
            "standoff": 15
           },
           "zerolinecolor": "white",
           "zerolinewidth": 2
          },
          "yaxis": {
           "automargin": true,
           "gridcolor": "white",
           "linecolor": "white",
           "ticks": "",
           "title": {
            "standoff": 15
           },
           "zerolinecolor": "white",
           "zerolinewidth": 2
          }
         }
        },
        "width": 900,
        "xaxis": {
         "title": {
          "text": "Dates"
         }
        },
        "yaxis": {
         "title": {
          "text": "Number of Deaths"
         }
        }
       }
      },
      "text/html": [
       "<div>\n",
       "        \n",
       "        \n",
       "            <div id=\"bbaf0eb0-aaf1-42dc-9afb-7d4402ff2dfd\" class=\"plotly-graph-div\" style=\"height:500px; width:900px;\"></div>\n",
       "            <script type=\"text/javascript\">\n",
       "                require([\"plotly\"], function(Plotly) {\n",
       "                    window.PLOTLYENV=window.PLOTLYENV || {};\n",
       "                    \n",
       "                if (document.getElementById(\"bbaf0eb0-aaf1-42dc-9afb-7d4402ff2dfd\")) {\n",
       "                    Plotly.newPlot(\n",
       "                        'bbaf0eb0-aaf1-42dc-9afb-7d4402ff2dfd',\n",
       "                        [{\"marker\": {\"color\": \"purple\"}, \"text\": [0.0, 0.0, 4.0, 0.0, 2.0, 2.0, 1.0, 5.0, 4.0, 1.0, 10.0, 13.0, 17.0, 24.0, 31.0, 48.0, 47.0, 69.0, 63.0, 105.0, 106.0, 154.0, 154.0, 193.0, 244.0, 323.0, 355.0, 354.0, 604.0, 596.0, 359.0, 599.0, 611.0, 656.0, 756.0, 725.0, 715.0, 783.0, 864.0, 756.0, 704.0, 738.0, 684.0, 652.0, 615.0, 653.0, 611.0, 576.0, 547.0, 501.0, 537.0, 462.0, 466.0, 433.0, 416.0, 362.0, 352.0, 316.0, 302.0, 278.0, 219.0, 75.0], \"textposition\": \"auto\", \"type\": \"bar\", \"x\": [\"01/03/2020\", \"02/03/2020\", \"03/03/2020\", \"04/03/2020\", \"05/03/2020\", \"06/03/2020\", \"07/03/2020\", \"08/03/2020\", \"09/03/2020\", \"10/03/2020\", \"11/03/2020\", \"12/03/2020\", \"13/03/2020\", \"14/03/2020\", \"15/03/2020\", \"16/03/2020\", \"17/03/2020\", \"18/03/2020\", \"19/03/2020\", \"20/03/2020\", \"21/03/2020\", \"22/03/2020\", \"23/03/2020\", \"24/03/2020\", \"25/03/2020\", \"26/03/2020\", \"27/03/2020\", \"28/03/2020\", \"29/03/2020\", \"30/03/2020\", \"31/03/2020\", \"01/04/2020\", \"02/04/2020\", \"03/04/2020\", \"04/04/2020\", \"05/04/2020\", \"06/04/2020\", \"07/04/2020\", \"08/04/2020\", \"09/04/2020\", \"10/04/2020\", \"11/04/2020\", \"12/04/2020\", \"13/04/2020\", \"14/04/2020\", \"15/04/2020\", \"16/04/2020\", \"17/04/2020\", \"18/04/2020\", \"19/04/2020\", \"20/04/2020\", \"21/04/2020\", \"22/04/2020\", \"23/04/2020\", \"24/04/2020\", \"25/04/2020\", \"26/04/2020\", \"27/04/2020\", \"28/04/2020\", \"29/04/2020\", \"30/04/2020\", \"01/05/2020\"], \"y\": [0, 0, 4, 0, 2, 2, 1, 5, 4, 1, 10, 13, 17, 24, 31, 48, 47, 69, 63, 105, 106, 154, 154, 193, 244, 323, 355, 354, 604, 596, 359, 599, 611, 656, 756, 725, 715, 783, 864, 756, 704, 738, 684, 652, 615, 653, 611, 576, 547, 501, 537, 462, 466, 433, 416, 362, 352, 316, 302, 278, 219, 75]}, {\"mode\": \"text\", \"text\": [\"Lockdown\"], \"type\": \"scatter\", \"x\": [\"26/03/2020\"], \"y\": [708]}],\n",
       "                        {\"height\": 500, \"margin\": {\"b\": 20, \"l\": 20, \"r\": 20, \"t\": 20}, \"shapes\": [{\"line\": {\"color\": \"RoyalBlue\", \"width\": 3}, \"type\": \"line\", \"x0\": 22, \"x1\": 22, \"y0\": 0, \"y1\": 900}], \"showlegend\": false, \"template\": {\"data\": {\"bar\": [{\"error_x\": {\"color\": \"#2a3f5f\"}, \"error_y\": {\"color\": \"#2a3f5f\"}, \"marker\": {\"line\": {\"color\": \"#E5ECF6\", \"width\": 0.5}}, \"type\": \"bar\"}], \"barpolar\": [{\"marker\": {\"line\": {\"color\": \"#E5ECF6\", \"width\": 0.5}}, \"type\": \"barpolar\"}], \"carpet\": [{\"aaxis\": {\"endlinecolor\": \"#2a3f5f\", \"gridcolor\": \"white\", \"linecolor\": \"white\", \"minorgridcolor\": \"white\", \"startlinecolor\": \"#2a3f5f\"}, \"baxis\": {\"endlinecolor\": \"#2a3f5f\", \"gridcolor\": \"white\", \"linecolor\": \"white\", \"minorgridcolor\": \"white\", \"startlinecolor\": \"#2a3f5f\"}, \"type\": \"carpet\"}], \"choropleth\": [{\"colorbar\": {\"outlinewidth\": 0, \"ticks\": \"\"}, \"type\": \"choropleth\"}], \"contour\": [{\"colorbar\": {\"outlinewidth\": 0, \"ticks\": \"\"}, \"colorscale\": [[0.0, \"#0d0887\"], [0.1111111111111111, \"#46039f\"], [0.2222222222222222, \"#7201a8\"], [0.3333333333333333, \"#9c179e\"], [0.4444444444444444, \"#bd3786\"], [0.5555555555555556, \"#d8576b\"], [0.6666666666666666, \"#ed7953\"], [0.7777777777777778, \"#fb9f3a\"], [0.8888888888888888, \"#fdca26\"], [1.0, \"#f0f921\"]], \"type\": \"contour\"}], \"contourcarpet\": [{\"colorbar\": {\"outlinewidth\": 0, \"ticks\": \"\"}, \"type\": \"contourcarpet\"}], \"heatmap\": [{\"colorbar\": {\"outlinewidth\": 0, \"ticks\": \"\"}, \"colorscale\": [[0.0, \"#0d0887\"], [0.1111111111111111, \"#46039f\"], [0.2222222222222222, \"#7201a8\"], [0.3333333333333333, \"#9c179e\"], [0.4444444444444444, \"#bd3786\"], [0.5555555555555556, \"#d8576b\"], [0.6666666666666666, \"#ed7953\"], [0.7777777777777778, \"#fb9f3a\"], [0.8888888888888888, \"#fdca26\"], [1.0, \"#f0f921\"]], \"type\": \"heatmap\"}], \"heatmapgl\": [{\"colorbar\": {\"outlinewidth\": 0, \"ticks\": \"\"}, \"colorscale\": [[0.0, \"#0d0887\"], [0.1111111111111111, \"#46039f\"], [0.2222222222222222, \"#7201a8\"], [0.3333333333333333, \"#9c179e\"], [0.4444444444444444, \"#bd3786\"], [0.5555555555555556, \"#d8576b\"], [0.6666666666666666, \"#ed7953\"], [0.7777777777777778, \"#fb9f3a\"], [0.8888888888888888, \"#fdca26\"], [1.0, \"#f0f921\"]], \"type\": \"heatmapgl\"}], \"histogram\": [{\"marker\": {\"colorbar\": {\"outlinewidth\": 0, \"ticks\": \"\"}}, \"type\": \"histogram\"}], \"histogram2d\": [{\"colorbar\": {\"outlinewidth\": 0, \"ticks\": \"\"}, \"colorscale\": [[0.0, \"#0d0887\"], [0.1111111111111111, \"#46039f\"], [0.2222222222222222, \"#7201a8\"], [0.3333333333333333, \"#9c179e\"], [0.4444444444444444, \"#bd3786\"], [0.5555555555555556, \"#d8576b\"], [0.6666666666666666, \"#ed7953\"], [0.7777777777777778, \"#fb9f3a\"], [0.8888888888888888, \"#fdca26\"], [1.0, \"#f0f921\"]], \"type\": \"histogram2d\"}], \"histogram2dcontour\": [{\"colorbar\": {\"outlinewidth\": 0, \"ticks\": \"\"}, \"colorscale\": [[0.0, \"#0d0887\"], [0.1111111111111111, \"#46039f\"], [0.2222222222222222, \"#7201a8\"], [0.3333333333333333, \"#9c179e\"], [0.4444444444444444, \"#bd3786\"], [0.5555555555555556, \"#d8576b\"], [0.6666666666666666, \"#ed7953\"], [0.7777777777777778, \"#fb9f3a\"], [0.8888888888888888, \"#fdca26\"], [1.0, \"#f0f921\"]], \"type\": \"histogram2dcontour\"}], \"mesh3d\": [{\"colorbar\": {\"outlinewidth\": 0, \"ticks\": \"\"}, \"type\": \"mesh3d\"}], \"parcoords\": [{\"line\": {\"colorbar\": {\"outlinewidth\": 0, \"ticks\": \"\"}}, \"type\": \"parcoords\"}], \"pie\": [{\"automargin\": true, \"type\": \"pie\"}], \"scatter\": [{\"marker\": {\"colorbar\": {\"outlinewidth\": 0, \"ticks\": \"\"}}, \"type\": \"scatter\"}], \"scatter3d\": [{\"line\": {\"colorbar\": {\"outlinewidth\": 0, \"ticks\": \"\"}}, \"marker\": {\"colorbar\": {\"outlinewidth\": 0, \"ticks\": \"\"}}, \"type\": \"scatter3d\"}], \"scattercarpet\": [{\"marker\": {\"colorbar\": {\"outlinewidth\": 0, \"ticks\": \"\"}}, \"type\": \"scattercarpet\"}], \"scattergeo\": [{\"marker\": {\"colorbar\": {\"outlinewidth\": 0, \"ticks\": \"\"}}, \"type\": \"scattergeo\"}], \"scattergl\": [{\"marker\": {\"colorbar\": {\"outlinewidth\": 0, \"ticks\": \"\"}}, \"type\": \"scattergl\"}], \"scattermapbox\": [{\"marker\": {\"colorbar\": {\"outlinewidth\": 0, \"ticks\": \"\"}}, \"type\": \"scattermapbox\"}], \"scatterpolar\": [{\"marker\": {\"colorbar\": {\"outlinewidth\": 0, \"ticks\": \"\"}}, \"type\": \"scatterpolar\"}], \"scatterpolargl\": [{\"marker\": {\"colorbar\": {\"outlinewidth\": 0, \"ticks\": \"\"}}, \"type\": \"scatterpolargl\"}], \"scatterternary\": [{\"marker\": {\"colorbar\": {\"outlinewidth\": 0, \"ticks\": \"\"}}, \"type\": \"scatterternary\"}], \"surface\": [{\"colorbar\": {\"outlinewidth\": 0, \"ticks\": \"\"}, \"colorscale\": [[0.0, \"#0d0887\"], [0.1111111111111111, \"#46039f\"], [0.2222222222222222, \"#7201a8\"], [0.3333333333333333, \"#9c179e\"], [0.4444444444444444, \"#bd3786\"], [0.5555555555555556, \"#d8576b\"], [0.6666666666666666, \"#ed7953\"], [0.7777777777777778, \"#fb9f3a\"], [0.8888888888888888, \"#fdca26\"], [1.0, \"#f0f921\"]], \"type\": \"surface\"}], \"table\": [{\"cells\": {\"fill\": {\"color\": \"#EBF0F8\"}, \"line\": {\"color\": \"white\"}}, \"header\": {\"fill\": {\"color\": \"#C8D4E3\"}, \"line\": {\"color\": \"white\"}}, \"type\": \"table\"}]}, \"layout\": {\"annotationdefaults\": {\"arrowcolor\": \"#2a3f5f\", \"arrowhead\": 0, \"arrowwidth\": 1}, \"coloraxis\": {\"colorbar\": {\"outlinewidth\": 0, \"ticks\": \"\"}}, \"colorscale\": {\"diverging\": [[0, \"#8e0152\"], [0.1, \"#c51b7d\"], [0.2, \"#de77ae\"], [0.3, \"#f1b6da\"], [0.4, \"#fde0ef\"], [0.5, \"#f7f7f7\"], [0.6, \"#e6f5d0\"], [0.7, \"#b8e186\"], [0.8, \"#7fbc41\"], [0.9, \"#4d9221\"], [1, \"#276419\"]], \"sequential\": [[0.0, \"#0d0887\"], [0.1111111111111111, \"#46039f\"], [0.2222222222222222, \"#7201a8\"], [0.3333333333333333, \"#9c179e\"], [0.4444444444444444, \"#bd3786\"], [0.5555555555555556, \"#d8576b\"], [0.6666666666666666, \"#ed7953\"], [0.7777777777777778, \"#fb9f3a\"], [0.8888888888888888, \"#fdca26\"], [1.0, \"#f0f921\"]], \"sequentialminus\": [[0.0, \"#0d0887\"], [0.1111111111111111, \"#46039f\"], [0.2222222222222222, \"#7201a8\"], [0.3333333333333333, \"#9c179e\"], [0.4444444444444444, \"#bd3786\"], [0.5555555555555556, \"#d8576b\"], [0.6666666666666666, \"#ed7953\"], [0.7777777777777778, \"#fb9f3a\"], [0.8888888888888888, \"#fdca26\"], [1.0, \"#f0f921\"]]}, \"colorway\": [\"#636efa\", \"#EF553B\", \"#00cc96\", \"#ab63fa\", \"#FFA15A\", \"#19d3f3\", \"#FF6692\", \"#B6E880\", \"#FF97FF\", \"#FECB52\"], \"font\": {\"color\": \"#2a3f5f\"}, \"geo\": {\"bgcolor\": \"white\", \"lakecolor\": \"white\", \"landcolor\": \"#E5ECF6\", \"showlakes\": true, \"showland\": true, \"subunitcolor\": \"white\"}, \"hoverlabel\": {\"align\": \"left\"}, \"hovermode\": \"closest\", \"mapbox\": {\"style\": \"light\"}, \"paper_bgcolor\": \"white\", \"plot_bgcolor\": \"#E5ECF6\", \"polar\": {\"angularaxis\": {\"gridcolor\": \"white\", \"linecolor\": \"white\", \"ticks\": \"\"}, \"bgcolor\": \"#E5ECF6\", \"radialaxis\": {\"gridcolor\": \"white\", \"linecolor\": \"white\", \"ticks\": \"\"}}, \"scene\": {\"xaxis\": {\"backgroundcolor\": \"#E5ECF6\", \"gridcolor\": \"white\", \"gridwidth\": 2, \"linecolor\": \"white\", \"showbackground\": true, \"ticks\": \"\", \"zerolinecolor\": \"white\"}, \"yaxis\": {\"backgroundcolor\": \"#E5ECF6\", \"gridcolor\": \"white\", \"gridwidth\": 2, \"linecolor\": \"white\", \"showbackground\": true, \"ticks\": \"\", \"zerolinecolor\": \"white\"}, \"zaxis\": {\"backgroundcolor\": \"#E5ECF6\", \"gridcolor\": \"white\", \"gridwidth\": 2, \"linecolor\": \"white\", \"showbackground\": true, \"ticks\": \"\", \"zerolinecolor\": \"white\"}}, \"shapedefaults\": {\"line\": {\"color\": \"#2a3f5f\"}}, \"ternary\": {\"aaxis\": {\"gridcolor\": \"white\", \"linecolor\": \"white\", \"ticks\": \"\"}, \"baxis\": {\"gridcolor\": \"white\", \"linecolor\": \"white\", \"ticks\": \"\"}, \"bgcolor\": \"#E5ECF6\", \"caxis\": {\"gridcolor\": \"white\", \"linecolor\": \"white\", \"ticks\": \"\"}}, \"title\": {\"x\": 0.05}, \"xaxis\": {\"automargin\": true, \"gridcolor\": \"white\", \"linecolor\": \"white\", \"ticks\": \"\", \"title\": {\"standoff\": 15}, \"zerolinecolor\": \"white\", \"zerolinewidth\": 2}, \"yaxis\": {\"automargin\": true, \"gridcolor\": \"white\", \"linecolor\": \"white\", \"ticks\": \"\", \"title\": {\"standoff\": 15}, \"zerolinecolor\": \"white\", \"zerolinewidth\": 2}}}, \"width\": 900, \"xaxis\": {\"title\": {\"text\": \"Dates\"}}, \"yaxis\": {\"title\": {\"text\": \"Number of Deaths\"}}},\n",
       "                        {\"responsive\": true}\n",
       "                    ).then(function(){\n",
       "                            \n",
       "var gd = document.getElementById('bbaf0eb0-aaf1-42dc-9afb-7d4402ff2dfd');\n",
       "var x = new MutationObserver(function (mutations, observer) {{\n",
       "        var display = window.getComputedStyle(gd).display;\n",
       "        if (!display || display === 'none') {{\n",
       "            console.log([gd, 'removed!']);\n",
       "            Plotly.purge(gd);\n",
       "            observer.disconnect();\n",
       "        }}\n",
       "}});\n",
       "\n",
       "// Listen for the removal of the full notebook cells\n",
       "var notebookContainer = gd.closest('#notebook-container');\n",
       "if (notebookContainer) {{\n",
       "    x.observe(notebookContainer, {childList: true});\n",
       "}}\n",
       "\n",
       "// Listen for the clearing of the current output cell\n",
       "var outputEl = gd.closest('.output');\n",
       "if (outputEl) {{\n",
       "    x.observe(outputEl, {childList: true});\n",
       "}}\n",
       "\n",
       "                        })\n",
       "                };\n",
       "                });\n",
       "            </script>\n",
       "        </div>"
      ]
     },
     "metadata": {},
     "output_type": "display_data"
    }
   ],
   "source": [
    "df = nhs_region\n",
    "x = np.array((list(df.iloc[:, 2:].columns)))\n",
    "y = np.sum(np.array(df[df['Country Region']=='England'].iloc[:,2:]),axis = 0)\n",
    "\n",
    "fig = go.Figure(data=[go.Bar(\n",
    "            x=x, y=y,\n",
    "            text=y,\n",
    "            textposition='auto',\n",
    "            marker_color='purple'\n",
    "        )])\n",
    "\n",
    "fig.add_trace(go.Scatter(\n",
    "            x=np.array((list(df.iloc[:, 27:28].columns))),\n",
    "            y=np.sum(np.array(df.iloc[:,29:30]),axis = 0),\n",
    "            text=[\"Lockdown\"],\n",
    "            mode=\"text\"\n",
    "            ))\n",
    "\n",
    "fig.update_layout(\n",
    "        xaxis_title=\"Dates\",\n",
    "        yaxis_title=\"Number of Deaths\",\n",
    "        margin=dict(l=20, r=20, t=20, b=20),\n",
    "        showlegend=False,\n",
    "        height=500,\n",
    "        width=900)\n",
    "\n",
    "fig.add_shape(\n",
    "    dict(\n",
    "        type=\"line\",\n",
    "        x0=22,\n",
    "        y0=0,\n",
    "        x1=22,\n",
    "        y1=900,\n",
    "        line=dict(\n",
    "            color=\"RoyalBlue\",\n",
    "            width=3\n",
    "        )))\n",
    "\n",
    "fig.show()"
   ]
  },
  {
   "cell_type": "markdown",
   "metadata": {},
   "source": [
    "# NHS Regional - Total Confirmed Deaths"
   ]
  },
  {
   "cell_type": "code",
   "execution_count": null,
   "metadata": {},
   "outputs": [],
   "source": [
    "fig = px.bar(\n",
    "    nhs_region,\n",
    "    x = nhs_region['Country Region'].drop(0),\n",
    "    y = nhs_region['Total'].drop(0),\n",
    "    text=nhs_region['Total'].drop(0),\n",
    "    color_discrete_sequence=[\"indianred\"],\n",
    "    height=500,\n",
    "    width=900)\n",
    "\n",
    "fig.update_layout(\n",
    "        xaxis_title=\"UK Regions\",\n",
    "        yaxis_title=\"Number of Deaths\",\n",
    "        margin=dict(l=20, r=20, t=20, b=20))"
   ]
  },
  {
   "cell_type": "markdown",
   "metadata": {},
   "source": [
    "# NHS Regional Daily - Confirmed Deaths \n",
    "### Use slider to adjust the Date Range\n",
    "###### Tip: Double click a specified region in the key to only display that region data and single click will hide the specified region data.\n",
    "###### Tip 2: Enable \"Compare Data On Hover\" for data comparison when hovering."
   ]
  },
  {
   "cell_type": "code",
   "execution_count": null,
   "metadata": {},
   "outputs": [],
   "source": [
    "df = nhs_region\n",
    "def date_slider2(Date_Range):\n",
    "    \n",
    "    EOE = np.sum(np.array(df[df['Country Region']=='East Of England'].iloc[:,Date_Range:]),axis = 0)\n",
    "    LDN = np.sum(np.array(df[df['Country Region']=='London'].iloc[:,Date_Range:]),axis = 0)\n",
    "    MLD = np.sum(np.array(df[df['Country Region']=='Midlands'].iloc[:,Date_Range:]),axis = 0)\n",
    "    NEY = np.sum(np.array(df[df['Country Region']=='North East And Yorkshire'].iloc[:,2:]),axis = 0)\n",
    "    NW = np.sum(np.array(df[df['Country Region']=='North West'].iloc[:,Date_Range:]),axis = 0)\n",
    "    SE = np.sum(np.array(df[df['Country Region']=='South East'].iloc[:,Date_Range:]),axis = 0)\n",
    "    SW = np.sum(np.array(df[df['Country Region']=='South West'].iloc[:,Date_Range:]),axis = 0)\n",
    "\n",
    "    arr = [EOE,LDN,MLD,NEY,NW,SE,SW]\n",
    "\n",
    "    labels = ['East Of England', 'London', 'Midlands', 'North East and Yorkshire', 'North West', ' South East', 'South West']\n",
    "    colors = ['red','blue','green','orange','yellow','purple','violet']\n",
    "    mode_size = [8]*7\n",
    "    line_size = [2]*7\n",
    "\n",
    "    x_data = np.array((list(df.iloc[:, Date_Range:].columns),)*7)\n",
    "\n",
    "    y_data = arr\n",
    "\n",
    "    fig = go.Figure()\n",
    "\n",
    "    for i in range(0, 7):\n",
    "        fig.add_trace(go.Scatter(x=x_data[i], y=y_data[i], mode='lines',\n",
    "            name=labels[i],\n",
    "            line=dict(color=colors[i], width=line_size[i]),\n",
    "            connectgaps=True,\n",
    "        ))\n",
    "\n",
    "        fig.update_layout(\n",
    "                xaxis_title=\"Date\",\n",
    "                yaxis_title=\"Number of Cases\",\n",
    "                margin=dict(l=20, r=20, t=20, b=20),\n",
    "                height=500,\n",
    "                width=900)\n",
    "    return fig\n",
    "interact(date_slider2, Date_Range=widgets.IntSlider(min=2, max=54, step=1, value=2));\n",
    "    #fig.show()"
   ]
  },
  {
   "cell_type": "markdown",
   "metadata": {},
   "source": [
    "# NHS Age Range - Total Confirmed Deaths"
   ]
  },
  {
   "cell_type": "code",
   "execution_count": null,
   "metadata": {},
   "outputs": [],
   "source": [
    "x = nhs_age['Age Group'].drop(0)\n",
    "y = nhs_age['Total'].drop(0)\n",
    "\n",
    "# Use textposition='auto' for direct text\n",
    "fig = go.Figure(data=[go.Bar(\n",
    "            x=x, y=y,\n",
    "            text=y,\n",
    "            textposition='auto',\n",
    "    #marker_color='indianred'\n",
    "        )])\n",
    "\n",
    "fig.update_layout(\n",
    "        xaxis_title=\"Age Range\",\n",
    "        yaxis_title=\"Number of Deaths\",\n",
    "        margin=dict(l=20, r=20, t=20, b=20),\n",
    "        height=500,\n",
    "        width=900)\n",
    "\n",
    "fig.show()"
   ]
  },
  {
   "cell_type": "markdown",
   "metadata": {},
   "source": [
    "# NHS Confirmed Deaths by Underlying Health Conditions\n",
    "##### This graph is separate to the Age Range graph due to longer update intervals for Underlying Health Conditions Dataset."
   ]
  },
  {
   "cell_type": "code",
   "execution_count": null,
   "metadata": {},
   "outputs": [],
   "source": [
    "fig = px.bar(nhs_conditions, \n",
    "             x=\"Age Group\", \n",
    "             y=\"Total\",\n",
    "             text='Total',\n",
    "             color='Underlying Condition')\n",
    "\n",
    "fig.update_layout(\n",
    "        xaxis_title=\"Age Range\",\n",
    "        yaxis_title=\"Number of Deaths\",\n",
    "        margin=dict(l=20, r=20, t=20, b=20),\n",
    "        height=500,\n",
    "        width=900)\n",
    "fig.show()"
   ]
  },
  {
   "cell_type": "markdown",
   "metadata": {},
   "source": [
    "# NHS Confirmed Deaths by Gender "
   ]
  },
  {
   "cell_type": "code",
   "execution_count": null,
   "metadata": {
    "scrolled": false
   },
   "outputs": [],
   "source": [
    "gender = px.bar(nhs_gender,\n",
    "                x='Age Group',\n",
    "                y='Total',\n",
    "                color='Gender',\n",
    "                text = 'Total',\n",
    "                height=500,\n",
    "                width=900)\n",
    "               \n",
    "gender.update_layout(xaxis_title = 'Age Range',\n",
    "                    yaxis_title = 'Number of Deaths',\n",
    "                    margin=dict(l=20, r=20, t=20, b=20))\n",
    "\n",
    "gender.show()"
   ]
  },
  {
   "cell_type": "markdown",
   "metadata": {},
   "source": [
    "# NHS Comfirmed Deaths by Ethnicity\n",
    "### Use slider to adjust the Scale \n"
   ]
  },
  {
   "cell_type": "code",
   "execution_count": null,
   "metadata": {
    "scrolled": false
   },
   "outputs": [],
   "source": [
    "def ethnic_bar(Scale):\n",
    "    \n",
    "    ethnic = px.bar(nhs_ethnicity.drop(nhs_ethnicity.index[[0,Scale]]), \n",
    "                    x='ethnic group', \n",
    "                    y='count',\n",
    "                    color_discrete_sequence=[\"indianred\"],\n",
    "                    text='count')\n",
    "    \n",
    "    ethnic.update_layout(\n",
    "        xaxis_title=\"Ethnic Group\",\n",
    "        yaxis_title=\"Number of Deaths\",\n",
    "        margin=dict(l=20, r=20, t=20, b=20))\n",
    "\n",
    "    return ethnic\n",
    "\n",
    "interact(ethnic_bar, Scale=widgets.IntSlider(min=0, max=1, step=1, value=0));"
   ]
  },
  {
   "cell_type": "markdown",
   "metadata": {},
   "source": [
    "All Data sourced from NHS COVID-19 Daily Deaths Statistics - https://www.england.nhs.uk/statistics/statistical-work-areas/covid-19-daily-deaths/"
   ]
  }
 ],
 "metadata": {
  "kernelspec": {
   "display_name": "Python 3",
   "language": "python",
   "name": "python3"
  },
  "language_info": {
   "codemirror_mode": {
    "name": "ipython",
    "version": 3
   },
   "file_extension": ".py",
   "mimetype": "text/x-python",
   "name": "python",
   "nbconvert_exporter": "python",
   "pygments_lexer": "ipython3",
   "version": "3.7.4"
  }
 },
 "nbformat": 4,
 "nbformat_minor": 2
}
